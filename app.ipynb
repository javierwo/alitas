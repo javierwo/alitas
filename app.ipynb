{
 "cells": [
  {
   "cell_type": "markdown",
   "metadata": {
    "collapsed": false
   },
   "source": [
    "### Imports"
   ]
  },
  {
   "cell_type": "code",
   "execution_count": 1,
   "metadata": {
    "ExecuteTime": {
     "end_time": "2023-11-06T17:06:47.998111500Z",
     "start_time": "2023-11-06T17:06:42.074118Z"
    },
    "collapsed": true
   },
   "outputs": [],
   "source": [
    "from sqlalchemy import create_engine\n",
    "import psycopg2\n",
    "import pandas as pd"
   ]
  },
  {
   "cell_type": "code",
   "execution_count": 16,
   "metadata": {},
   "outputs": [],
   "source": [
    "import pytz"
   ]
  },
  {
   "cell_type": "markdown",
   "metadata": {
    "collapsed": false
   },
   "source": [
    "### Config"
   ]
  },
  {
   "cell_type": "code",
   "execution_count": 2,
   "metadata": {},
   "outputs": [],
   "source": [
    "PG_HOST=\"localhost\"\n",
    "PG_DATABASE=\"mr_alitas\"\n",
    "PG_USER=\"postgres\"\n",
    "PG_PASS=\"000111\"\n",
    "\n",
    "try:\n",
    "  alchemyEngine = create_engine('postgresql+psycopg2://'+PG_USER+':'+PG_PASS+'@'+PG_HOST+':5432/'+PG_DATABASE+'', pool_recycle=3600)\n",
    "except Exception as e:\n",
    "  print(\"Error al iniciar postgresql: \" + str(e))"
   ]
  },
  {
   "cell_type": "code",
   "execution_count": 6,
   "metadata": {},
   "outputs": [],
   "source": [
    "PG_HOST='monorail.proxy.rlwy.net'\n",
    "PG_DATABASE='railway'\n",
    "PG_USER='postgres'\n",
    "PG_PASS='4EAFBd5-5da2D-6gd4EGg2f1G2B32df3'\n",
    "PG_PORT=15770\n",
    "\n",
    "try:\n",
    "  alchemyEngine = create_engine('postgresql+psycopg2://'+PG_USER+':'+PG_PASS+'@'+PG_HOST+':'+str(PG_PORT)+'/'+PG_DATABASE+'', pool_recycle=3600)\n",
    "except Exception as e:\n",
    "  print(\"Error al iniciar postgresql: \" + str(e))"
   ]
  },
  {
   "cell_type": "markdown",
   "metadata": {
    "collapsed": false
   },
   "source": [
    "### Funciones"
   ]
  },
  {
   "cell_type": "code",
   "execution_count": 4,
   "metadata": {},
   "outputs": [],
   "source": [
    "def pg_connect():\n",
    "  connection = psycopg2.connect(\n",
    "    host=PG_HOST,\n",
    "    database=PG_DATABASE,\n",
    "    user=PG_USER,\n",
    "    password=PG_PASS,\n",
    "    port=PG_PORT\n",
    "  )\n",
    "  return connection"
   ]
  },
  {
   "cell_type": "markdown",
   "metadata": {},
   "source": [
    "### DATA ANALYSIS BY USER"
   ]
  },
  {
   "cell_type": "code",
   "execution_count": 7,
   "metadata": {},
   "outputs": [],
   "source": [
    "with alchemyEngine.connect() as dbConnection:\n",
    "  VENTAS = pd.read_sql(\n",
    "    \"SELECT * FROM ventas where id_usuario_fk = %s\",\n",
    "    dbConnection,\n",
    "    params=(1,)\n",
    "  )"
   ]
  },
  {
   "cell_type": "code",
   "execution_count": 8,
   "metadata": {},
   "outputs": [
    {
     "data": {
      "text/html": [
       "<div>\n",
       "<style scoped>\n",
       "    .dataframe tbody tr th:only-of-type {\n",
       "        vertical-align: middle;\n",
       "    }\n",
       "\n",
       "    .dataframe tbody tr th {\n",
       "        vertical-align: top;\n",
       "    }\n",
       "\n",
       "    .dataframe thead th {\n",
       "        text-align: right;\n",
       "    }\n",
       "</style>\n",
       "<table border=\"1\" class=\"dataframe\">\n",
       "  <thead>\n",
       "    <tr style=\"text-align: right;\">\n",
       "      <th></th>\n",
       "      <th>id_venta</th>\n",
       "      <th>num_productos</th>\n",
       "      <th>total</th>\n",
       "      <th>valor_pagado</th>\n",
       "      <th>cambio</th>\n",
       "      <th>id_usuario_fk</th>\n",
       "      <th>fecha_creacion</th>\n",
       "    </tr>\n",
       "  </thead>\n",
       "  <tbody>\n",
       "  </tbody>\n",
       "</table>\n",
       "</div>"
      ],
      "text/plain": [
       "Empty DataFrame\n",
       "Columns: [id_venta, num_productos, total, valor_pagado, cambio, id_usuario_fk, fecha_creacion]\n",
       "Index: []"
      ]
     },
     "execution_count": 8,
     "metadata": {},
     "output_type": "execute_result"
    }
   ],
   "source": [
    "VENTAS"
   ]
  },
  {
   "cell_type": "code",
   "execution_count": 7,
   "metadata": {},
   "outputs": [
    {
     "name": "stdout",
     "output_type": "stream",
     "text": [
      "<class 'pandas.core.frame.DataFrame'>\n",
      "RangeIndex: 18 entries, 0 to 17\n",
      "Data columns (total 7 columns):\n",
      " #   Column          Non-Null Count  Dtype         \n",
      "---  ------          --------------  -----         \n",
      " 0   id_venta        18 non-null     int64         \n",
      " 1   num_productos   18 non-null     int64         \n",
      " 2   total           18 non-null     float64       \n",
      " 3   valor_pagado    18 non-null     float64       \n",
      " 4   cambio          18 non-null     float64       \n",
      " 5   fecha_creacion  18 non-null     datetime64[ns]\n",
      " 6   id_usuario_fk   18 non-null     int64         \n",
      "dtypes: datetime64[ns](1), float64(3), int64(3)\n",
      "memory usage: 1.1 KB\n"
     ]
    }
   ],
   "source": [
    "VENTAS.info()"
   ]
  },
  {
   "cell_type": "code",
   "execution_count": 13,
   "metadata": {},
   "outputs": [],
   "source": [
    "current_year = VENTAS['fecha_creacion'].dt.year.max()\n",
    "current_month = VENTAS['fecha_creacion'].dt.month.max()\n",
    "current_month_data = VENTAS[(VENTAS['fecha_creacion'].dt.year == current_year) & (VENTAS['fecha_creacion'].dt.month == current_month)]\n",
    "current_month_sales = current_month_data.groupby(current_month_data['fecha_creacion'].dt.date)['total'].sum().reset_index()\n"
   ]
  },
  {
   "cell_type": "code",
   "execution_count": 9,
   "metadata": {},
   "outputs": [
    {
     "data": {
      "text/html": [
       "<div>\n",
       "<style scoped>\n",
       "    .dataframe tbody tr th:only-of-type {\n",
       "        vertical-align: middle;\n",
       "    }\n",
       "\n",
       "    .dataframe tbody tr th {\n",
       "        vertical-align: top;\n",
       "    }\n",
       "\n",
       "    .dataframe thead th {\n",
       "        text-align: right;\n",
       "    }\n",
       "</style>\n",
       "<table border=\"1\" class=\"dataframe\">\n",
       "  <thead>\n",
       "    <tr style=\"text-align: right;\">\n",
       "      <th></th>\n",
       "      <th>id_venta</th>\n",
       "      <th>num_productos</th>\n",
       "      <th>total</th>\n",
       "      <th>valor_pagado</th>\n",
       "      <th>cambio</th>\n",
       "      <th>fecha_creacion</th>\n",
       "      <th>id_usuario_fk</th>\n",
       "    </tr>\n",
       "  </thead>\n",
       "  <tbody>\n",
       "    <tr>\n",
       "      <th>0</th>\n",
       "      <td>1</td>\n",
       "      <td>3</td>\n",
       "      <td>6.0</td>\n",
       "      <td>10.0</td>\n",
       "      <td>4.0</td>\n",
       "      <td>2023-12-22 23:40:29.807236</td>\n",
       "      <td>1</td>\n",
       "    </tr>\n",
       "    <tr>\n",
       "      <th>1</th>\n",
       "      <td>2</td>\n",
       "      <td>3</td>\n",
       "      <td>6.0</td>\n",
       "      <td>10.0</td>\n",
       "      <td>4.0</td>\n",
       "      <td>2023-12-22 23:50:33.534514</td>\n",
       "      <td>1</td>\n",
       "    </tr>\n",
       "    <tr>\n",
       "      <th>2</th>\n",
       "      <td>3</td>\n",
       "      <td>3</td>\n",
       "      <td>6.0</td>\n",
       "      <td>10.0</td>\n",
       "      <td>4.0</td>\n",
       "      <td>2023-12-22 23:51:42.694241</td>\n",
       "      <td>1</td>\n",
       "    </tr>\n",
       "    <tr>\n",
       "      <th>3</th>\n",
       "      <td>4</td>\n",
       "      <td>1</td>\n",
       "      <td>7.5</td>\n",
       "      <td>10.0</td>\n",
       "      <td>2.5</td>\n",
       "      <td>2023-12-22 23:52:49.640618</td>\n",
       "      <td>1</td>\n",
       "    </tr>\n",
       "    <tr>\n",
       "      <th>4</th>\n",
       "      <td>5</td>\n",
       "      <td>2</td>\n",
       "      <td>4.0</td>\n",
       "      <td>5.0</td>\n",
       "      <td>1.0</td>\n",
       "      <td>2023-12-22 23:54:17.137453</td>\n",
       "      <td>1</td>\n",
       "    </tr>\n",
       "    <tr>\n",
       "      <th>5</th>\n",
       "      <td>6</td>\n",
       "      <td>1</td>\n",
       "      <td>2.0</td>\n",
       "      <td>5.0</td>\n",
       "      <td>3.0</td>\n",
       "      <td>2023-12-22 23:55:10.123227</td>\n",
       "      <td>1</td>\n",
       "    </tr>\n",
       "    <tr>\n",
       "      <th>6</th>\n",
       "      <td>7</td>\n",
       "      <td>1</td>\n",
       "      <td>2.0</td>\n",
       "      <td>5.0</td>\n",
       "      <td>3.0</td>\n",
       "      <td>2023-12-22 23:58:41.016204</td>\n",
       "      <td>1</td>\n",
       "    </tr>\n",
       "    <tr>\n",
       "      <th>7</th>\n",
       "      <td>8</td>\n",
       "      <td>2</td>\n",
       "      <td>4.0</td>\n",
       "      <td>5.0</td>\n",
       "      <td>1.0</td>\n",
       "      <td>2023-12-22 23:59:32.086504</td>\n",
       "      <td>1</td>\n",
       "    </tr>\n",
       "    <tr>\n",
       "      <th>8</th>\n",
       "      <td>9</td>\n",
       "      <td>1</td>\n",
       "      <td>2.0</td>\n",
       "      <td>2.0</td>\n",
       "      <td>0.0</td>\n",
       "      <td>2023-12-23 00:00:47.269447</td>\n",
       "      <td>1</td>\n",
       "    </tr>\n",
       "    <tr>\n",
       "      <th>9</th>\n",
       "      <td>10</td>\n",
       "      <td>1</td>\n",
       "      <td>2.0</td>\n",
       "      <td>2.0</td>\n",
       "      <td>0.0</td>\n",
       "      <td>2023-12-23 00:01:59.489409</td>\n",
       "      <td>1</td>\n",
       "    </tr>\n",
       "    <tr>\n",
       "      <th>10</th>\n",
       "      <td>11</td>\n",
       "      <td>1</td>\n",
       "      <td>2.0</td>\n",
       "      <td>2.0</td>\n",
       "      <td>0.0</td>\n",
       "      <td>2023-12-23 00:02:16.360055</td>\n",
       "      <td>1</td>\n",
       "    </tr>\n",
       "    <tr>\n",
       "      <th>11</th>\n",
       "      <td>12</td>\n",
       "      <td>4</td>\n",
       "      <td>8.0</td>\n",
       "      <td>10.0</td>\n",
       "      <td>2.0</td>\n",
       "      <td>2023-12-23 00:03:51.195472</td>\n",
       "      <td>1</td>\n",
       "    </tr>\n",
       "    <tr>\n",
       "      <th>12</th>\n",
       "      <td>19</td>\n",
       "      <td>3</td>\n",
       "      <td>1.5</td>\n",
       "      <td>10.0</td>\n",
       "      <td>8.5</td>\n",
       "      <td>2023-12-27 14:00:33.959764</td>\n",
       "      <td>1</td>\n",
       "    </tr>\n",
       "    <tr>\n",
       "      <th>13</th>\n",
       "      <td>20</td>\n",
       "      <td>1</td>\n",
       "      <td>0.5</td>\n",
       "      <td>10.0</td>\n",
       "      <td>9.5</td>\n",
       "      <td>2023-12-27 14:10:57.546924</td>\n",
       "      <td>1</td>\n",
       "    </tr>\n",
       "    <tr>\n",
       "      <th>14</th>\n",
       "      <td>21</td>\n",
       "      <td>15</td>\n",
       "      <td>10.5</td>\n",
       "      <td>15.0</td>\n",
       "      <td>4.5</td>\n",
       "      <td>2023-12-27 15:59:08.924659</td>\n",
       "      <td>1</td>\n",
       "    </tr>\n",
       "    <tr>\n",
       "      <th>15</th>\n",
       "      <td>22</td>\n",
       "      <td>42</td>\n",
       "      <td>66.0</td>\n",
       "      <td>70.0</td>\n",
       "      <td>4.0</td>\n",
       "      <td>2023-12-27 16:47:31.721877</td>\n",
       "      <td>1</td>\n",
       "    </tr>\n",
       "    <tr>\n",
       "      <th>16</th>\n",
       "      <td>23</td>\n",
       "      <td>1</td>\n",
       "      <td>0.5</td>\n",
       "      <td>1.0</td>\n",
       "      <td>0.5</td>\n",
       "      <td>2023-12-27 16:57:06.429409</td>\n",
       "      <td>1</td>\n",
       "    </tr>\n",
       "    <tr>\n",
       "      <th>17</th>\n",
       "      <td>24</td>\n",
       "      <td>3</td>\n",
       "      <td>1.5</td>\n",
       "      <td>5.0</td>\n",
       "      <td>3.5</td>\n",
       "      <td>2023-12-27 16:59:18.575435</td>\n",
       "      <td>1</td>\n",
       "    </tr>\n",
       "  </tbody>\n",
       "</table>\n",
       "</div>"
      ],
      "text/plain": [
       "    id_venta  num_productos  total  valor_pagado  cambio  \\\n",
       "0          1              3    6.0          10.0     4.0   \n",
       "1          2              3    6.0          10.0     4.0   \n",
       "2          3              3    6.0          10.0     4.0   \n",
       "3          4              1    7.5          10.0     2.5   \n",
       "4          5              2    4.0           5.0     1.0   \n",
       "5          6              1    2.0           5.0     3.0   \n",
       "6          7              1    2.0           5.0     3.0   \n",
       "7          8              2    4.0           5.0     1.0   \n",
       "8          9              1    2.0           2.0     0.0   \n",
       "9         10              1    2.0           2.0     0.0   \n",
       "10        11              1    2.0           2.0     0.0   \n",
       "11        12              4    8.0          10.0     2.0   \n",
       "12        19              3    1.5          10.0     8.5   \n",
       "13        20              1    0.5          10.0     9.5   \n",
       "14        21             15   10.5          15.0     4.5   \n",
       "15        22             42   66.0          70.0     4.0   \n",
       "16        23              1    0.5           1.0     0.5   \n",
       "17        24              3    1.5           5.0     3.5   \n",
       "\n",
       "               fecha_creacion  id_usuario_fk  \n",
       "0  2023-12-22 23:40:29.807236              1  \n",
       "1  2023-12-22 23:50:33.534514              1  \n",
       "2  2023-12-22 23:51:42.694241              1  \n",
       "3  2023-12-22 23:52:49.640618              1  \n",
       "4  2023-12-22 23:54:17.137453              1  \n",
       "5  2023-12-22 23:55:10.123227              1  \n",
       "6  2023-12-22 23:58:41.016204              1  \n",
       "7  2023-12-22 23:59:32.086504              1  \n",
       "8  2023-12-23 00:00:47.269447              1  \n",
       "9  2023-12-23 00:01:59.489409              1  \n",
       "10 2023-12-23 00:02:16.360055              1  \n",
       "11 2023-12-23 00:03:51.195472              1  \n",
       "12 2023-12-27 14:00:33.959764              1  \n",
       "13 2023-12-27 14:10:57.546924              1  \n",
       "14 2023-12-27 15:59:08.924659              1  \n",
       "15 2023-12-27 16:47:31.721877              1  \n",
       "16 2023-12-27 16:57:06.429409              1  \n",
       "17 2023-12-27 16:59:18.575435              1  "
      ]
     },
     "execution_count": 9,
     "metadata": {},
     "output_type": "execute_result"
    }
   ],
   "source": [
    "current_month_data"
   ]
  },
  {
   "cell_type": "code",
   "execution_count": 19,
   "metadata": {},
   "outputs": [
    {
     "data": {
      "text/html": [
       "<div>\n",
       "<style scoped>\n",
       "    .dataframe tbody tr th:only-of-type {\n",
       "        vertical-align: middle;\n",
       "    }\n",
       "\n",
       "    .dataframe tbody tr th {\n",
       "        vertical-align: top;\n",
       "    }\n",
       "\n",
       "    .dataframe thead th {\n",
       "        text-align: right;\n",
       "    }\n",
       "</style>\n",
       "<table border=\"1\" class=\"dataframe\">\n",
       "  <thead>\n",
       "    <tr style=\"text-align: right;\">\n",
       "      <th></th>\n",
       "      <th>fecha_creacion</th>\n",
       "      <th>total</th>\n",
       "    </tr>\n",
       "  </thead>\n",
       "  <tbody>\n",
       "    <tr>\n",
       "      <th>0</th>\n",
       "      <td>2023</td>\n",
       "      <td>132.0</td>\n",
       "    </tr>\n",
       "  </tbody>\n",
       "</table>\n",
       "</div>"
      ],
      "text/plain": [
       "   fecha_creacion  total\n",
       "0            2023  132.0"
      ]
     },
     "execution_count": 19,
     "metadata": {},
     "output_type": "execute_result"
    }
   ],
   "source": [
    "current_month_data.groupby(current_month_data['fecha_creacion'].dt.year)['total'].sum().reset_index()"
   ]
  },
  {
   "cell_type": "code",
   "execution_count": 14,
   "metadata": {},
   "outputs": [
    {
     "data": {
      "text/html": [
       "<div>\n",
       "<style scoped>\n",
       "    .dataframe tbody tr th:only-of-type {\n",
       "        vertical-align: middle;\n",
       "    }\n",
       "\n",
       "    .dataframe tbody tr th {\n",
       "        vertical-align: top;\n",
       "    }\n",
       "\n",
       "    .dataframe thead th {\n",
       "        text-align: right;\n",
       "    }\n",
       "</style>\n",
       "<table border=\"1\" class=\"dataframe\">\n",
       "  <thead>\n",
       "    <tr style=\"text-align: right;\">\n",
       "      <th></th>\n",
       "      <th>fecha_creacion</th>\n",
       "      <th>total</th>\n",
       "    </tr>\n",
       "  </thead>\n",
       "  <tbody>\n",
       "    <tr>\n",
       "      <th>0</th>\n",
       "      <td>2023-12-22</td>\n",
       "      <td>37.5</td>\n",
       "    </tr>\n",
       "    <tr>\n",
       "      <th>1</th>\n",
       "      <td>2023-12-23</td>\n",
       "      <td>14.0</td>\n",
       "    </tr>\n",
       "    <tr>\n",
       "      <th>2</th>\n",
       "      <td>2023-12-27</td>\n",
       "      <td>80.5</td>\n",
       "    </tr>\n",
       "  </tbody>\n",
       "</table>\n",
       "</div>"
      ],
      "text/plain": [
       "  fecha_creacion  total\n",
       "0     2023-12-22   37.5\n",
       "1     2023-12-23   14.0\n",
       "2     2023-12-27   80.5"
      ]
     },
     "execution_count": 14,
     "metadata": {},
     "output_type": "execute_result"
    }
   ],
   "source": [
    "current_month_sales"
   ]
  },
  {
   "cell_type": "code",
   "execution_count": 24,
   "metadata": {},
   "outputs": [
    {
     "data": {
      "text/plain": [
       "['22-12-2023', '23-12-2023', '27-12-2023']"
      ]
     },
     "execution_count": 24,
     "metadata": {},
     "output_type": "execute_result"
    }
   ],
   "source": [
    "dates_list = [date.strftime(\"%d-%m-%Y\") for date in current_month_sales['fecha_creacion'].to_list()]\n",
    "dates_list"
   ]
  },
  {
   "cell_type": "code",
   "execution_count": 26,
   "metadata": {},
   "outputs": [
    {
     "data": {
      "text/plain": [
       "[37.5, 14.0, 80.5]"
      ]
     },
     "execution_count": 26,
     "metadata": {},
     "output_type": "execute_result"
    }
   ],
   "source": [
    "sales = current_month_sales['total'].tolist()\n",
    "sales"
   ]
  },
  {
   "cell_type": "markdown",
   "metadata": {},
   "source": [
    "### DATA ANALYSIS GENERAL"
   ]
  },
  {
   "cell_type": "code",
   "execution_count": 27,
   "metadata": {},
   "outputs": [],
   "source": [
    "with alchemyEngine.connect() as dbConnection:\n",
    "  VENTAS_GENERAL = pd.read_sql(\n",
    "    \"SELECT * FROM ventas v left join usuarios u on u.id_usuario = v.id_usuario_fk \",\n",
    "    dbConnection,\n",
    "  )"
   ]
  },
  {
   "cell_type": "code",
   "execution_count": 29,
   "metadata": {},
   "outputs": [
    {
     "data": {
      "text/html": [
       "<div>\n",
       "<style scoped>\n",
       "    .dataframe tbody tr th:only-of-type {\n",
       "        vertical-align: middle;\n",
       "    }\n",
       "\n",
       "    .dataframe tbody tr th {\n",
       "        vertical-align: top;\n",
       "    }\n",
       "\n",
       "    .dataframe thead th {\n",
       "        text-align: right;\n",
       "    }\n",
       "</style>\n",
       "<table border=\"1\" class=\"dataframe\">\n",
       "  <thead>\n",
       "    <tr style=\"text-align: right;\">\n",
       "      <th></th>\n",
       "      <th>id_venta</th>\n",
       "      <th>num_productos</th>\n",
       "      <th>total</th>\n",
       "      <th>valor_pagado</th>\n",
       "      <th>cambio</th>\n",
       "      <th>fecha_creacion</th>\n",
       "      <th>id_usuario_fk</th>\n",
       "      <th>id_usuario</th>\n",
       "      <th>username</th>\n",
       "      <th>name_user</th>\n",
       "    </tr>\n",
       "  </thead>\n",
       "  <tbody>\n",
       "    <tr>\n",
       "      <th>0</th>\n",
       "      <td>1</td>\n",
       "      <td>3</td>\n",
       "      <td>6.0</td>\n",
       "      <td>10.0</td>\n",
       "      <td>4.0</td>\n",
       "      <td>2023-12-22 23:40:29.807236</td>\n",
       "      <td>1</td>\n",
       "      <td>1</td>\n",
       "      <td>ximena</td>\n",
       "      <td>Ximena García</td>\n",
       "    </tr>\n",
       "    <tr>\n",
       "      <th>1</th>\n",
       "      <td>2</td>\n",
       "      <td>3</td>\n",
       "      <td>6.0</td>\n",
       "      <td>10.0</td>\n",
       "      <td>4.0</td>\n",
       "      <td>2023-12-22 23:50:33.534514</td>\n",
       "      <td>1</td>\n",
       "      <td>1</td>\n",
       "      <td>ximena</td>\n",
       "      <td>Ximena García</td>\n",
       "    </tr>\n",
       "  </tbody>\n",
       "</table>\n",
       "</div>"
      ],
      "text/plain": [
       "   id_venta  num_productos  total  valor_pagado  cambio  \\\n",
       "0         1              3    6.0          10.0     4.0   \n",
       "1         2              3    6.0          10.0     4.0   \n",
       "\n",
       "              fecha_creacion  id_usuario_fk  id_usuario username  \\\n",
       "0 2023-12-22 23:40:29.807236              1           1   ximena   \n",
       "1 2023-12-22 23:50:33.534514              1           1   ximena   \n",
       "\n",
       "       name_user  \n",
       "0  Ximena García  \n",
       "1  Ximena García  "
      ]
     },
     "execution_count": 29,
     "metadata": {},
     "output_type": "execute_result"
    }
   ],
   "source": [
    "VENTAS_GENERAL.head(2)"
   ]
  },
  {
   "cell_type": "code",
   "execution_count": 35,
   "metadata": {},
   "outputs": [
    {
     "data": {
      "text/html": [
       "<div>\n",
       "<style scoped>\n",
       "    .dataframe tbody tr th:only-of-type {\n",
       "        vertical-align: middle;\n",
       "    }\n",
       "\n",
       "    .dataframe tbody tr th {\n",
       "        vertical-align: top;\n",
       "    }\n",
       "\n",
       "    .dataframe thead th {\n",
       "        text-align: right;\n",
       "    }\n",
       "</style>\n",
       "<table border=\"1\" class=\"dataframe\">\n",
       "  <thead>\n",
       "    <tr style=\"text-align: right;\">\n",
       "      <th></th>\n",
       "      <th>fecha_creacion</th>\n",
       "      <th>name_user</th>\n",
       "      <th>total</th>\n",
       "    </tr>\n",
       "  </thead>\n",
       "  <tbody>\n",
       "    <tr>\n",
       "      <th>0</th>\n",
       "      <td>2023-12-22</td>\n",
       "      <td>Ximena García</td>\n",
       "      <td>37.50</td>\n",
       "    </tr>\n",
       "    <tr>\n",
       "      <th>1</th>\n",
       "      <td>2023-12-23</td>\n",
       "      <td>Alexandra Sinche</td>\n",
       "      <td>69.35</td>\n",
       "    </tr>\n",
       "    <tr>\n",
       "      <th>2</th>\n",
       "      <td>2023-12-23</td>\n",
       "      <td>Ximena García</td>\n",
       "      <td>14.00</td>\n",
       "    </tr>\n",
       "    <tr>\n",
       "      <th>3</th>\n",
       "      <td>2023-12-27</td>\n",
       "      <td>Ximena García</td>\n",
       "      <td>87.50</td>\n",
       "    </tr>\n",
       "  </tbody>\n",
       "</table>\n",
       "</div>"
      ],
      "text/plain": [
       "  fecha_creacion         name_user  total\n",
       "0     2023-12-22     Ximena García  37.50\n",
       "1     2023-12-23  Alexandra Sinche  69.35\n",
       "2     2023-12-23     Ximena García  14.00\n",
       "3     2023-12-27     Ximena García  87.50"
      ]
     },
     "execution_count": 35,
     "metadata": {},
     "output_type": "execute_result"
    }
   ],
   "source": [
    "monthly_user_sales = VENTAS_GENERAL.groupby([VENTAS_GENERAL['fecha_creacion'].dt.to_period('D'), 'name_user'])['total'].sum().reset_index()\n",
    "\n",
    "monthly_user_sales"
   ]
  },
  {
   "cell_type": "code",
   "execution_count": 36,
   "metadata": {},
   "outputs": [
    {
     "data": {
      "text/plain": [
       "[Period('2023-12-22', 'D'),\n",
       " Period('2023-12-23', 'D'),\n",
       " Period('2023-12-23', 'D'),\n",
       " Period('2023-12-27', 'D')]"
      ]
     },
     "execution_count": 36,
     "metadata": {},
     "output_type": "execute_result"
    }
   ],
   "source": [
    "monthly_user_sales['fecha_creacion'].tolist()"
   ]
  },
  {
   "cell_type": "code",
   "execution_count": 38,
   "metadata": {},
   "outputs": [
    {
     "data": {
      "text/plain": [
       "['12-2023', '12-2023']"
      ]
     },
     "execution_count": 38,
     "metadata": {},
     "output_type": "execute_result"
    }
   ],
   "source": [
    "monthly_user_sales = VENTAS_GENERAL.groupby([VENTAS_GENERAL['fecha_creacion'].dt.to_period('M'), 'name_user'])['total'].sum().reset_index()\n",
    "monthly_user_sales['fecha_creacion'] = monthly_user_sales['fecha_creacion'].dt.strftime(\"%m-%Y\")\n",
    "monthly_user_sales['fecha_creacion'].tolist()"
   ]
  },
  {
   "cell_type": "code",
   "execution_count": 40,
   "metadata": {},
   "outputs": [
    {
     "data": {
      "text/html": [
       "<div>\n",
       "<style scoped>\n",
       "    .dataframe tbody tr th:only-of-type {\n",
       "        vertical-align: middle;\n",
       "    }\n",
       "\n",
       "    .dataframe tbody tr th {\n",
       "        vertical-align: top;\n",
       "    }\n",
       "\n",
       "    .dataframe thead th {\n",
       "        text-align: right;\n",
       "    }\n",
       "</style>\n",
       "<table border=\"1\" class=\"dataframe\">\n",
       "  <thead>\n",
       "    <tr style=\"text-align: right;\">\n",
       "      <th></th>\n",
       "      <th>fecha_creacion</th>\n",
       "      <th>total</th>\n",
       "    </tr>\n",
       "  </thead>\n",
       "  <tbody>\n",
       "    <tr>\n",
       "      <th>0</th>\n",
       "      <td>2023-12</td>\n",
       "      <td>208.35</td>\n",
       "    </tr>\n",
       "  </tbody>\n",
       "</table>\n",
       "</div>"
      ],
      "text/plain": [
       "  fecha_creacion   total\n",
       "0        2023-12  208.35"
      ]
     },
     "execution_count": 40,
     "metadata": {},
     "output_type": "execute_result"
    }
   ],
   "source": [
    "monthly_user_sales = VENTAS_GENERAL.groupby([VENTAS_GENERAL['fecha_creacion'].dt.to_period('M')])['total'].sum().reset_index()\n",
    "monthly_user_sales"
   ]
  },
  {
   "cell_type": "markdown",
   "metadata": {},
   "source": [
    "### PRODUCTOS VENDIDOS POR VENDEDOR"
   ]
  },
  {
   "cell_type": "code",
   "execution_count": 9,
   "metadata": {},
   "outputs": [],
   "source": [
    "SQL_VENTAS = \"select * from ventas v left join usuarios u on u.id_usuario = v.id_usuario_fk;\""
   ]
  },
  {
   "cell_type": "code",
   "execution_count": 20,
   "metadata": {},
   "outputs": [],
   "source": [
    "with alchemyEngine.connect() as dbConnection:\n",
    "  VENTAS_PRODUCTOS = pd.read_sql(\n",
    "    \"select pv.id_producto_fk, pv.cantidad, pv.total, u.name_user, v.fecha_creacion from productos_ventas pv left join productos p on p.id_producto = pv.id_producto_fk left join ventas v on pv.id_venta_fk  = v.id_venta left join usuarios u on v.id_usuario_fk = u.id_usuario\",\n",
    "    dbConnection,\n",
    "  )\n",
    "\n",
    "  ALL_PRODUCTS = pd.read_sql(\n",
    "    \"select id_producto, nombre, precio from productos p\",\n",
    "    dbConnection,\n",
    "  )"
   ]
  },
  {
   "cell_type": "code",
   "execution_count": 21,
   "metadata": {},
   "outputs": [
    {
     "data": {
      "text/html": [
       "<div>\n",
       "<style scoped>\n",
       "    .dataframe tbody tr th:only-of-type {\n",
       "        vertical-align: middle;\n",
       "    }\n",
       "\n",
       "    .dataframe tbody tr th {\n",
       "        vertical-align: top;\n",
       "    }\n",
       "\n",
       "    .dataframe thead th {\n",
       "        text-align: right;\n",
       "    }\n",
       "</style>\n",
       "<table border=\"1\" class=\"dataframe\">\n",
       "  <thead>\n",
       "    <tr style=\"text-align: right;\">\n",
       "      <th></th>\n",
       "      <th>id_producto_fk</th>\n",
       "      <th>cantidad</th>\n",
       "      <th>total</th>\n",
       "      <th>name_user</th>\n",
       "      <th>fecha_creacion</th>\n",
       "    </tr>\n",
       "  </thead>\n",
       "  <tbody>\n",
       "    <tr>\n",
       "      <th>0</th>\n",
       "      <td>1</td>\n",
       "      <td>4</td>\n",
       "      <td>8.0</td>\n",
       "      <td>Ximena García</td>\n",
       "      <td>2024-01-15 18:43:08.322902</td>\n",
       "    </tr>\n",
       "  </tbody>\n",
       "</table>\n",
       "</div>"
      ],
      "text/plain": [
       "   id_producto_fk  cantidad  total      name_user             fecha_creacion\n",
       "0               1         4    8.0  Ximena García 2024-01-15 18:43:08.322902"
      ]
     },
     "execution_count": 21,
     "metadata": {},
     "output_type": "execute_result"
    }
   ],
   "source": [
    "VENTAS_PRODUCTOS"
   ]
  },
  {
   "cell_type": "code",
   "execution_count": 15,
   "metadata": {},
   "outputs": [
    {
     "data": {
      "text/html": [
       "<div>\n",
       "<style scoped>\n",
       "    .dataframe tbody tr th:only-of-type {\n",
       "        vertical-align: middle;\n",
       "    }\n",
       "\n",
       "    .dataframe tbody tr th {\n",
       "        vertical-align: top;\n",
       "    }\n",
       "\n",
       "    .dataframe thead th {\n",
       "        text-align: right;\n",
       "    }\n",
       "</style>\n",
       "<table border=\"1\" class=\"dataframe\">\n",
       "  <thead>\n",
       "    <tr style=\"text-align: right;\">\n",
       "      <th></th>\n",
       "      <th>id_producto_fk</th>\n",
       "      <th>cantidad</th>\n",
       "      <th>total</th>\n",
       "      <th>name_user</th>\n",
       "      <th>fecha_creacion</th>\n",
       "    </tr>\n",
       "  </thead>\n",
       "  <tbody>\n",
       "    <tr>\n",
       "      <th>0</th>\n",
       "      <td>1</td>\n",
       "      <td>4</td>\n",
       "      <td>8.0</td>\n",
       "      <td>Ximena García</td>\n",
       "      <td>2024-01-15 18:34:18.249753+00:00</td>\n",
       "    </tr>\n",
       "  </tbody>\n",
       "</table>\n",
       "</div>"
      ],
      "text/plain": [
       "   id_producto_fk  cantidad  total      name_user  \\\n",
       "0               1         4    8.0  Ximena García   \n",
       "\n",
       "                    fecha_creacion  \n",
       "0 2024-01-15 18:34:18.249753+00:00  "
      ]
     },
     "execution_count": 15,
     "metadata": {},
     "output_type": "execute_result"
    }
   ],
   "source": [
    "VENTAS_PRODUCTOS['fecha_creacion'] = pd.to_datetime(VENTAS_PRODUCTOS['fecha_creacion'])\n",
    "VENTAS_PRODUCTOS\n"
   ]
  },
  {
   "cell_type": "code",
   "execution_count": 17,
   "metadata": {},
   "outputs": [
    {
     "data": {
      "text/html": [
       "<div>\n",
       "<style scoped>\n",
       "    .dataframe tbody tr th:only-of-type {\n",
       "        vertical-align: middle;\n",
       "    }\n",
       "\n",
       "    .dataframe tbody tr th {\n",
       "        vertical-align: top;\n",
       "    }\n",
       "\n",
       "    .dataframe thead th {\n",
       "        text-align: right;\n",
       "    }\n",
       "</style>\n",
       "<table border=\"1\" class=\"dataframe\">\n",
       "  <thead>\n",
       "    <tr style=\"text-align: right;\">\n",
       "      <th></th>\n",
       "      <th>id_producto_fk</th>\n",
       "      <th>cantidad</th>\n",
       "      <th>total</th>\n",
       "      <th>name_user</th>\n",
       "      <th>fecha_creacion</th>\n",
       "    </tr>\n",
       "  </thead>\n",
       "  <tbody>\n",
       "    <tr>\n",
       "      <th>0</th>\n",
       "      <td>1</td>\n",
       "      <td>4</td>\n",
       "      <td>8.0</td>\n",
       "      <td>Ximena García</td>\n",
       "      <td>2024-01-15 18:34:18.249753</td>\n",
       "    </tr>\n",
       "  </tbody>\n",
       "</table>\n",
       "</div>"
      ],
      "text/plain": [
       "   id_producto_fk  cantidad  total      name_user             fecha_creacion\n",
       "0               1         4    8.0  Ximena García 2024-01-15 18:34:18.249753"
      ]
     },
     "execution_count": 17,
     "metadata": {},
     "output_type": "execute_result"
    }
   ],
   "source": [
    "# Convierte la columna al formato de PostgreSQL sin zona horaria\n",
    "VENTAS_PRODUCTOS['fecha_creacion'] = VENTAS_PRODUCTOS['fecha_creacion'].dt.tz_localize(None)\n",
    "VENTAS_PRODUCTOS"
   ]
  },
  {
   "cell_type": "code",
   "execution_count": 14,
   "metadata": {},
   "outputs": [
    {
     "name": "stdout",
     "output_type": "stream",
     "text": [
      "<class 'pandas.core.frame.DataFrame'>\n",
      "RangeIndex: 1 entries, 0 to 0\n",
      "Data columns (total 5 columns):\n",
      " #   Column          Non-Null Count  Dtype              \n",
      "---  ------          --------------  -----              \n",
      " 0   id_producto_fk  1 non-null      int64              \n",
      " 1   cantidad        1 non-null      int64              \n",
      " 2   total           1 non-null      float64            \n",
      " 3   name_user       1 non-null      object             \n",
      " 4   fecha_creacion  1 non-null      datetime64[ns, UTC]\n",
      "dtypes: datetime64[ns, UTC](1), float64(1), int64(2), object(1)\n",
      "memory usage: 168.0+ bytes\n"
     ]
    }
   ],
   "source": [
    "VENTAS_PRODUCTOS.info()"
   ]
  },
  {
   "cell_type": "code",
   "execution_count": 44,
   "metadata": {},
   "outputs": [
    {
     "data": {
      "text/html": [
       "<div>\n",
       "<style scoped>\n",
       "    .dataframe tbody tr th:only-of-type {\n",
       "        vertical-align: middle;\n",
       "    }\n",
       "\n",
       "    .dataframe tbody tr th {\n",
       "        vertical-align: top;\n",
       "    }\n",
       "\n",
       "    .dataframe thead th {\n",
       "        text-align: right;\n",
       "    }\n",
       "</style>\n",
       "<table border=\"1\" class=\"dataframe\">\n",
       "  <thead>\n",
       "    <tr style=\"text-align: right;\">\n",
       "      <th></th>\n",
       "      <th>id_producto_fk</th>\n",
       "      <th>cantidad</th>\n",
       "      <th>total</th>\n",
       "      <th>name_user</th>\n",
       "      <th>fecha_creacion</th>\n",
       "    </tr>\n",
       "  </thead>\n",
       "  <tbody>\n",
       "    <tr>\n",
       "      <th>0</th>\n",
       "      <td>36</td>\n",
       "      <td>1</td>\n",
       "      <td>0.5</td>\n",
       "      <td>Ximena García</td>\n",
       "      <td>2023-12-29 16:43:55.314302</td>\n",
       "    </tr>\n",
       "    <tr>\n",
       "      <th>1</th>\n",
       "      <td>36</td>\n",
       "      <td>1</td>\n",
       "      <td>0.5</td>\n",
       "      <td>Alexandra Sinche</td>\n",
       "      <td>2023-12-29 21:27:04.593617</td>\n",
       "    </tr>\n",
       "    <tr>\n",
       "      <th>2</th>\n",
       "      <td>36</td>\n",
       "      <td>3</td>\n",
       "      <td>1.5</td>\n",
       "      <td>Alexandra Sinche</td>\n",
       "      <td>2023-12-29 21:27:04.593617</td>\n",
       "    </tr>\n",
       "    <tr>\n",
       "      <th>3</th>\n",
       "      <td>1</td>\n",
       "      <td>4</td>\n",
       "      <td>8.0</td>\n",
       "      <td>Ximena García</td>\n",
       "      <td>2024-01-06 14:44:23.058989</td>\n",
       "    </tr>\n",
       "  </tbody>\n",
       "</table>\n",
       "</div>"
      ],
      "text/plain": [
       "   id_producto_fk  cantidad  total         name_user  \\\n",
       "0              36         1    0.5     Ximena García   \n",
       "1              36         1    0.5  Alexandra Sinche   \n",
       "2              36         3    1.5  Alexandra Sinche   \n",
       "3               1         4    8.0     Ximena García   \n",
       "\n",
       "              fecha_creacion  \n",
       "0 2023-12-29 16:43:55.314302  \n",
       "1 2023-12-29 21:27:04.593617  \n",
       "2 2023-12-29 21:27:04.593617  \n",
       "3 2024-01-06 14:44:23.058989  "
      ]
     },
     "execution_count": 44,
     "metadata": {},
     "output_type": "execute_result"
    }
   ],
   "source": [
    "VENTAS_PRODUCTOS"
   ]
  },
  {
   "cell_type": "code",
   "execution_count": 54,
   "metadata": {},
   "outputs": [
    {
     "data": {
      "text/html": [
       "<div>\n",
       "<style scoped>\n",
       "    .dataframe tbody tr th:only-of-type {\n",
       "        vertical-align: middle;\n",
       "    }\n",
       "\n",
       "    .dataframe tbody tr th {\n",
       "        vertical-align: top;\n",
       "    }\n",
       "\n",
       "    .dataframe thead th {\n",
       "        text-align: right;\n",
       "    }\n",
       "</style>\n",
       "<table border=\"1\" class=\"dataframe\">\n",
       "  <thead>\n",
       "    <tr style=\"text-align: right;\">\n",
       "      <th></th>\n",
       "      <th>Fecha de Venta</th>\n",
       "      <th>Usuario</th>\n",
       "      <th>Producto</th>\n",
       "      <th>Precio Unitario</th>\n",
       "      <th>Cantidad</th>\n",
       "      <th>Total</th>\n",
       "    </tr>\n",
       "  </thead>\n",
       "  <tbody>\n",
       "    <tr>\n",
       "      <th>0</th>\n",
       "      <td>2023-12-29</td>\n",
       "      <td>Alexandra Sinche</td>\n",
       "      <td>AGUA</td>\n",
       "      <td>0.5</td>\n",
       "      <td>4</td>\n",
       "      <td>2.0</td>\n",
       "    </tr>\n",
       "    <tr>\n",
       "      <th>1</th>\n",
       "      <td>2023-12-29</td>\n",
       "      <td>Ximena García</td>\n",
       "      <td>AGUA</td>\n",
       "      <td>0.5</td>\n",
       "      <td>1</td>\n",
       "      <td>0.5</td>\n",
       "    </tr>\n",
       "    <tr>\n",
       "      <th>2</th>\n",
       "      <td>2024-01-06</td>\n",
       "      <td>Ximena García</td>\n",
       "      <td>SOLANO 2 ALITAS + PAPAS</td>\n",
       "      <td>2.0</td>\n",
       "      <td>4</td>\n",
       "      <td>8.0</td>\n",
       "    </tr>\n",
       "  </tbody>\n",
       "</table>\n",
       "</div>"
      ],
      "text/plain": [
       "  Fecha de Venta           Usuario                 Producto  Precio Unitario  \\\n",
       "0     2023-12-29  Alexandra Sinche                     AGUA              0.5   \n",
       "1     2023-12-29     Ximena García                     AGUA              0.5   \n",
       "2     2024-01-06     Ximena García  SOLANO 2 ALITAS + PAPAS              2.0   \n",
       "\n",
       "   Cantidad  Total  \n",
       "0         4    2.0  \n",
       "1         1    0.5  \n",
       "2         4    8.0  "
      ]
     },
     "execution_count": 54,
     "metadata": {},
     "output_type": "execute_result"
    }
   ],
   "source": [
    "daily_user_sales = VENTAS_PRODUCTOS.groupby([VENTAS_PRODUCTOS['fecha_creacion'].dt.to_period('D'), 'name_user','id_producto_fk']).agg(\n",
    "  {\n",
    "    'cantidad': 'sum',\n",
    "    'total': 'sum'}\n",
    "  ).reset_index()\n",
    "daily_user_sales\n",
    "MERGE_VENTAS = pd.merge(daily_user_sales, ALL_PRODUCTS, left_on='id_producto_fk', right_on='id_producto', how='left')\n",
    "MERGE_VENTAS = MERGE_VENTAS[[\n",
    "  'fecha_creacion',\n",
    "  'name_user',\n",
    "  'nombre',\n",
    "  'precio',\n",
    "  'cantidad',\n",
    "  'total'\n",
    "  ]]\n",
    "MERGE_VENTAS.rename(columns = {\n",
    "  'fecha_creacion':'Fecha de Venta',\n",
    "  'name_user':'Usuario',\n",
    "  'nombre':'Producto',\n",
    "  'precio':'Precio Unitario',\n",
    "  'cantidad':'Cantidad',\n",
    "  'total':'Total',\n",
    "}, inplace = True)\n",
    "\n",
    "MERGE_VENTAS"
   ]
  },
  {
   "cell_type": "code",
   "execution_count": 41,
   "metadata": {},
   "outputs": [
    {
     "data": {
      "text/html": [
       "<div>\n",
       "<style scoped>\n",
       "    .dataframe tbody tr th:only-of-type {\n",
       "        vertical-align: middle;\n",
       "    }\n",
       "\n",
       "    .dataframe tbody tr th {\n",
       "        vertical-align: top;\n",
       "    }\n",
       "\n",
       "    .dataframe thead th {\n",
       "        text-align: right;\n",
       "    }\n",
       "</style>\n",
       "<table border=\"1\" class=\"dataframe\">\n",
       "  <thead>\n",
       "    <tr style=\"text-align: right;\">\n",
       "      <th></th>\n",
       "      <th>name_user</th>\n",
       "      <th>cantidad</th>\n",
       "      <th>total</th>\n",
       "    </tr>\n",
       "    <tr>\n",
       "      <th>id_producto_fk</th>\n",
       "      <th></th>\n",
       "      <th></th>\n",
       "      <th></th>\n",
       "    </tr>\n",
       "  </thead>\n",
       "  <tbody>\n",
       "    <tr>\n",
       "      <th>1</th>\n",
       "      <td>Ximena García</td>\n",
       "      <td>4</td>\n",
       "      <td>8.0</td>\n",
       "    </tr>\n",
       "    <tr>\n",
       "      <th>36</th>\n",
       "      <td>Ximena García</td>\n",
       "      <td>5</td>\n",
       "      <td>2.5</td>\n",
       "    </tr>\n",
       "  </tbody>\n",
       "</table>\n",
       "</div>"
      ],
      "text/plain": [
       "                    name_user  cantidad  total\n",
       "id_producto_fk                                \n",
       "1               Ximena García         4    8.0\n",
       "36              Ximena García         5    2.5"
      ]
     },
     "execution_count": 41,
     "metadata": {},
     "output_type": "execute_result"
    }
   ],
   "source": [
    "VENTAS_PRODUCTOS_GROUPED = VENTAS_PRODUCTOS.groupby(['id_producto_fk', ]).agg(\n",
    "  {\n",
    "    'name_user': 'first',\n",
    "    'cantidad': 'sum',\n",
    "    'total': 'sum'}\n",
    "  )#.reset_index()\n",
    "VENTAS_PRODUCTOS_GROUPED\n",
    "#VENTAS_PRODUCTOS_GROUPED.unstack(level=2)"
   ]
  },
  {
   "cell_type": "code",
   "execution_count": 19,
   "metadata": {},
   "outputs": [
    {
     "ename": "KeyError",
     "evalue": "\"None of ['name_user'] are in the columns\"",
     "output_type": "error",
     "traceback": [
      "\u001b[1;31m---------------------------------------------------------------------------\u001b[0m",
      "\u001b[1;31mKeyError\u001b[0m                                  Traceback (most recent call last)",
      "\u001b[1;32m~\\AppData\\Local\\Temp\\ipykernel_12912\\1210779550.py\u001b[0m in \u001b[0;36m?\u001b[1;34m()\u001b[0m\n\u001b[1;32m----> 1\u001b[1;33m \u001b[0mVENTAS_PRODUCTOS_GROUPED\u001b[0m \u001b[1;33m=\u001b[0m \u001b[0mVENTAS_PRODUCTOS_GROUPED\u001b[0m\u001b[1;33m.\u001b[0m\u001b[0mset_index\u001b[0m\u001b[1;33m(\u001b[0m\u001b[1;34m'name_user'\u001b[0m\u001b[1;33m,\u001b[0m \u001b[0minplace\u001b[0m\u001b[1;33m=\u001b[0m\u001b[1;32mTrue\u001b[0m\u001b[1;33m)\u001b[0m\u001b[1;33m\u001b[0m\u001b[1;33m\u001b[0m\u001b[0m\n\u001b[0m\u001b[0;32m      2\u001b[0m \u001b[0mVENTAS_PRODUCTOS_GROUPED\u001b[0m\u001b[1;33m\u001b[0m\u001b[1;33m\u001b[0m\u001b[0m\n",
      "\u001b[1;32mc:\\Users\\JAVIER\\anaconda3\\envs\\mr_alitas\\lib\\site-packages\\pandas\\core\\frame.py\u001b[0m in \u001b[0;36m?\u001b[1;34m(self, keys, drop, append, inplace, verify_integrity)\u001b[0m\n\u001b[0;32m   5866\u001b[0m                     \u001b[1;32mif\u001b[0m \u001b[1;32mnot\u001b[0m \u001b[0mfound\u001b[0m\u001b[1;33m:\u001b[0m\u001b[1;33m\u001b[0m\u001b[1;33m\u001b[0m\u001b[0m\n\u001b[0;32m   5867\u001b[0m                         \u001b[0mmissing\u001b[0m\u001b[1;33m.\u001b[0m\u001b[0mappend\u001b[0m\u001b[1;33m(\u001b[0m\u001b[0mcol\u001b[0m\u001b[1;33m)\u001b[0m\u001b[1;33m\u001b[0m\u001b[1;33m\u001b[0m\u001b[0m\n\u001b[0;32m   5868\u001b[0m \u001b[1;33m\u001b[0m\u001b[0m\n\u001b[0;32m   5869\u001b[0m         \u001b[1;32mif\u001b[0m \u001b[0mmissing\u001b[0m\u001b[1;33m:\u001b[0m\u001b[1;33m\u001b[0m\u001b[1;33m\u001b[0m\u001b[0m\n\u001b[1;32m-> 5870\u001b[1;33m             \u001b[1;32mraise\u001b[0m \u001b[0mKeyError\u001b[0m\u001b[1;33m(\u001b[0m\u001b[1;34mf\"None of {missing} are in the columns\"\u001b[0m\u001b[1;33m)\u001b[0m\u001b[1;33m\u001b[0m\u001b[1;33m\u001b[0m\u001b[0m\n\u001b[0m\u001b[0;32m   5871\u001b[0m \u001b[1;33m\u001b[0m\u001b[0m\n\u001b[0;32m   5872\u001b[0m         \u001b[1;32mif\u001b[0m \u001b[0minplace\u001b[0m\u001b[1;33m:\u001b[0m\u001b[1;33m\u001b[0m\u001b[1;33m\u001b[0m\u001b[0m\n\u001b[0;32m   5873\u001b[0m             \u001b[0mframe\u001b[0m \u001b[1;33m=\u001b[0m \u001b[0mself\u001b[0m\u001b[1;33m\u001b[0m\u001b[1;33m\u001b[0m\u001b[0m\n",
      "\u001b[1;31mKeyError\u001b[0m: \"None of ['name_user'] are in the columns\""
     ]
    }
   ],
   "source": [
    "VENTAS_PRODUCTOS_GROUPED = VENTAS_PRODUCTOS_GROUPED.set_index('name_user', inplace=True)\n",
    "VENTAS_PRODUCTOS_GROUPED"
   ]
  },
  {
   "cell_type": "code",
   "execution_count": 8,
   "metadata": {},
   "outputs": [
    {
     "data": {
      "text/html": [
       "<div>\n",
       "<style scoped>\n",
       "    .dataframe tbody tr th:only-of-type {\n",
       "        vertical-align: middle;\n",
       "    }\n",
       "\n",
       "    .dataframe tbody tr th {\n",
       "        vertical-align: top;\n",
       "    }\n",
       "\n",
       "    .dataframe thead th {\n",
       "        text-align: right;\n",
       "    }\n",
       "</style>\n",
       "<table border=\"1\" class=\"dataframe\">\n",
       "  <thead>\n",
       "    <tr style=\"text-align: right;\">\n",
       "      <th></th>\n",
       "      <th>name_user</th>\n",
       "      <th>cantidad_1</th>\n",
       "      <th>cantidad_36</th>\n",
       "      <th>total_1</th>\n",
       "      <th>total_36</th>\n",
       "    </tr>\n",
       "  </thead>\n",
       "  <tbody>\n",
       "    <tr>\n",
       "      <th>0</th>\n",
       "      <td>Alexandra Sinche</td>\n",
       "      <td>NaN</td>\n",
       "      <td>4.0</td>\n",
       "      <td>NaN</td>\n",
       "      <td>2.0</td>\n",
       "    </tr>\n",
       "    <tr>\n",
       "      <th>1</th>\n",
       "      <td>Ximena García</td>\n",
       "      <td>4.0</td>\n",
       "      <td>1.0</td>\n",
       "      <td>8.0</td>\n",
       "      <td>0.5</td>\n",
       "    </tr>\n",
       "  </tbody>\n",
       "</table>\n",
       "</div>"
      ],
      "text/plain": [
       "          name_user  cantidad_1  cantidad_36  total_1  total_36\n",
       "0  Alexandra Sinche         NaN          4.0      NaN       2.0\n",
       "1     Ximena García         4.0          1.0      8.0       0.5"
      ]
     },
     "execution_count": 8,
     "metadata": {},
     "output_type": "execute_result"
    }
   ],
   "source": [
    "df_pivot = VENTAS_PRODUCTOS.pivot_table(index='name_user', columns=['id_producto_fk'], values=['cantidad', 'total'], aggfunc='sum')\n",
    "df_pivot.columns = df_pivot.columns.map(lambda x: f'{x[0]}_{x[1]}')\n",
    "df_pivot.reset_index(inplace=True)\n",
    "df_pivot.columns = ['name_user'] + df_pivot.columns[1:].tolist()\n",
    "df_pivot"
   ]
  }
 ],
 "metadata": {
  "kernelspec": {
   "display_name": "Python 3",
   "language": "python",
   "name": "python3"
  },
  "language_info": {
   "codemirror_mode": {
    "name": "ipython",
    "version": 3
   },
   "file_extension": ".py",
   "mimetype": "text/x-python",
   "name": "python",
   "nbconvert_exporter": "python",
   "pygments_lexer": "ipython3",
   "version": "3.10.13"
  }
 },
 "nbformat": 4,
 "nbformat_minor": 0
}
